{
 "cells": [
  {
   "cell_type": "code",
   "execution_count": 1,
   "metadata": {},
   "outputs": [
    {
     "name": "stdout",
     "output_type": "stream",
     "text": [
      "Collecting tabulateNote: you may need to restart the kernel to use updated packages.\n",
      "  Downloading tabulate-0.8.9-py3-none-any.whl (25 kB)\n",
      "Installing collected packages: tabulate\n",
      "Successfully installed tabulate-0.8.9\n",
      "\n"
     ]
    }
   ],
   "source": [
    "pip install tabulate"
   ]
  },
  {
   "cell_type": "code",
   "execution_count": 1,
   "metadata": {},
   "outputs": [],
   "source": [
    "from tabulate import tabulate"
   ]
  },
  {
   "cell_type": "code",
   "execution_count": 2,
   "metadata": {},
   "outputs": [],
   "source": [
    "table = [['Name', 'Year', 'Semesters on Staff'], ['Rita', '4','7'], ['Natalie', '4', '7'], ['Prasann', '3', '3'], ['Ashwin', '2','3'], ['Haru', '3', '3'], ['Wendy', '3', '3'], ['Jackie', '4', '7'], ['Vivrd', '2', '3'], ['Olivia', '4', '4'], ['Vishnu', '4', '3'], ['Peter','2', '2'], ['Kyle', '3', '3'], ['Jessie', '4', '5'], ['Oscar', '3', '3'], ['Yanay', '4', '9'], ['Eddie', '3', '4'], ['Katherine', '4', '10'],['Mei', '3', '2'], ['Rohan', '3', '2'], ['Noah', '2', '2'], ['Sarah', '3', '2'], ['Grace', '4', '3'], ['Ellen', '4', '5']]"
   ]
  },
  {
   "cell_type": "code",
   "execution_count": 3,
   "metadata": {},
   "outputs": [
    {
     "name": "stdout",
     "output_type": "stream",
     "text": [
      "---------  ----  ------------------\n",
      "Name       Year  Semesters on Staff\n",
      "Rita       4     7\n",
      "Natalie    4     7\n",
      "Prasann    3     3\n",
      "Ashwin     2     3\n",
      "Haru       3     3\n",
      "Wendy      3     3\n",
      "Jackie     4     7\n",
      "Vivrd      2     3\n",
      "Olivia     4     4\n",
      "Vishnu     4     3\n",
      "Peter      2     2\n",
      "Kyle       3     3\n",
      "Jessie     4     5\n",
      "Oscar      3     3\n",
      "Yanay      4     9\n",
      "Eddie      3     4\n",
      "Katherine  4     10\n",
      "Mei        3     2\n",
      "Rohan      3     2\n",
      "Noah       2     2\n",
      "Sarah      3     2\n",
      "Grace      4     3\n",
      "Ellen      4     5\n",
      "---------  ----  ------------------\n"
     ]
    }
   ],
   "source": [
    "print(tabulate(table))"
   ]
  },
  {
   "cell_type": "code",
   "execution_count": 5,
   "metadata": {},
   "outputs": [
    {
     "name": "stdout",
     "output_type": "stream",
     "text": [
      "╒═══════════╤════════╤══════════════════════╕\n",
      "│ Name      │   Year │   Semesters on Staff │\n",
      "╞═══════════╪════════╪══════════════════════╡\n",
      "│ Rita      │      4 │                    7 │\n",
      "├───────────┼────────┼──────────────────────┤\n",
      "│ Natalie   │      4 │                    7 │\n",
      "├───────────┼────────┼──────────────────────┤\n",
      "│ Prasann   │      3 │                    3 │\n",
      "├───────────┼────────┼──────────────────────┤\n",
      "│ Ashwin    │      2 │                    3 │\n",
      "├───────────┼────────┼──────────────────────┤\n",
      "│ Haru      │      3 │                    3 │\n",
      "├───────────┼────────┼──────────────────────┤\n",
      "│ Wendy     │      3 │                    3 │\n",
      "├───────────┼────────┼──────────────────────┤\n",
      "│ Jackie    │      4 │                    7 │\n",
      "├───────────┼────────┼──────────────────────┤\n",
      "│ Vivrd     │      2 │                    3 │\n",
      "├───────────┼────────┼──────────────────────┤\n",
      "│ Olivia    │      4 │                    4 │\n",
      "├───────────┼────────┼──────────────────────┤\n",
      "│ Vishnu    │      4 │                    3 │\n",
      "├───────────┼────────┼──────────────────────┤\n",
      "│ Peter     │      2 │                    2 │\n",
      "├───────────┼────────┼──────────────────────┤\n",
      "│ Kyle      │      3 │                    3 │\n",
      "├───────────┼────────┼──────────────────────┤\n",
      "│ Jessie    │      4 │                    5 │\n",
      "├───────────┼────────┼──────────────────────┤\n",
      "│ Oscar     │      3 │                    3 │\n",
      "├───────────┼────────┼──────────────────────┤\n",
      "│ Yanay     │      4 │                    9 │\n",
      "├───────────┼────────┼──────────────────────┤\n",
      "│ Eddie     │      3 │                    4 │\n",
      "├───────────┼────────┼──────────────────────┤\n",
      "│ Katherine │      4 │                   10 │\n",
      "├───────────┼────────┼──────────────────────┤\n",
      "│ Mei       │      3 │                    2 │\n",
      "├───────────┼────────┼──────────────────────┤\n",
      "│ Rohan     │      3 │                    2 │\n",
      "├───────────┼────────┼──────────────────────┤\n",
      "│ Noah      │      2 │                    2 │\n",
      "├───────────┼────────┼──────────────────────┤\n",
      "│ Sarah     │      3 │                    2 │\n",
      "├───────────┼────────┼──────────────────────┤\n",
      "│ Grace     │      4 │                    3 │\n",
      "├───────────┼────────┼──────────────────────┤\n",
      "│ Ellen     │      4 │                    5 │\n",
      "╘═══════════╧════════╧══════════════════════╛\n"
     ]
    }
   ],
   "source": [
    "print(tabulate(table, headers='firstrow', tablefmt='fancy_grid'))"
   ]
  },
  {
   "cell_type": "code",
   "execution_count": 4,
   "metadata": {},
   "outputs": [
    {
     "name": "stdout",
     "output_type": "stream",
     "text": [
      "Requirement already satisfied: pandas in c:\\users\\jamha\\anaconda3\\lib\\site-packages (1.1.3)\n",
      "Requirement already satisfied: pytz>=2017.2 in c:\\users\\jamha\\anaconda3\\lib\\site-packages (from pandas) (2020.1)\n",
      "Requirement already satisfied: numpy>=1.15.4 in c:\\users\\jamha\\anaconda3\\lib\\site-packages (from pandas) (1.19.2)\n",
      "Requirement already satisfied: python-dateutil>=2.7.3 in c:\\users\\jamha\\anaconda3\\lib\\site-packages (from pandas) (2.8.1)\n",
      "Requirement already satisfied: six>=1.5 in c:\\users\\jamha\\anaconda3\\lib\\site-packages (from python-dateutil>=2.7.3->pandas) (1.15.0)\n",
      "Note: you may need to restart the kernel to use updated packages.\n"
     ]
    }
   ],
   "source": [
    "pip install pandas"
   ]
  },
  {
   "cell_type": "code",
   "execution_count": 26,
   "metadata": {},
   "outputs": [
    {
     "data": {
      "text/html": [
       "<div>\n",
       "<style scoped>\n",
       "    .dataframe tbody tr th:only-of-type {\n",
       "        vertical-align: middle;\n",
       "    }\n",
       "\n",
       "    .dataframe tbody tr th {\n",
       "        vertical-align: top;\n",
       "    }\n",
       "\n",
       "    .dataframe thead tr th {\n",
       "        text-align: left;\n",
       "    }\n",
       "\n",
       "    .dataframe thead tr:last-of-type th {\n",
       "        text-align: right;\n",
       "    }\n",
       "</style>\n",
       "<table border=\"1\" class=\"dataframe\">\n",
       "  <thead>\n",
       "    <tr>\n",
       "      <th></th>\n",
       "      <th>Semesters on Staff</th>\n",
       "    </tr>\n",
       "    <tr>\n",
       "      <th></th>\n",
       "      <th>mean</th>\n",
       "    </tr>\n",
       "    <tr>\n",
       "      <th>Year</th>\n",
       "      <th></th>\n",
       "    </tr>\n",
       "  </thead>\n",
       "  <tbody>\n",
       "    <tr>\n",
       "      <th>2</th>\n",
       "      <td>2.500000</td>\n",
       "    </tr>\n",
       "    <tr>\n",
       "      <th>3</th>\n",
       "      <td>2.777778</td>\n",
       "    </tr>\n",
       "    <tr>\n",
       "      <th>4</th>\n",
       "      <td>6.000000</td>\n",
       "    </tr>\n",
       "  </tbody>\n",
       "</table>\n",
       "</div>"
      ],
      "text/plain": [
       "     Semesters on Staff\n",
       "                   mean\n",
       "Year                   \n",
       "2              2.500000\n",
       "3              2.777778\n",
       "4              6.000000"
      ]
     },
     "execution_count": 26,
     "metadata": {},
     "output_type": "execute_result"
    }
   ],
   "source": [
    "import pandas as pd\n",
    "import os\n",
    "\n",
    "#setting the file path to read the .csv file with the table\n",
    "data = pd.read_csv(r'C:\\Users\\jamha\\OneDrive\\Desktop\\CISPROG\\CISPROG-6\\data.csv')\n",
    "#\n",
    "data.groupby([\"Year\"]).agg({\"Semesters on Staff\":['mean']})\n"
   ]
  },
  {
   "cell_type": "code",
   "execution_count": 27,
   "metadata": {},
   "outputs": [
    {
     "data": {
      "text/html": [
       "<div>\n",
       "<style scoped>\n",
       "    .dataframe tbody tr th:only-of-type {\n",
       "        vertical-align: middle;\n",
       "    }\n",
       "\n",
       "    .dataframe tbody tr th {\n",
       "        vertical-align: top;\n",
       "    }\n",
       "\n",
       "    .dataframe thead th {\n",
       "        text-align: right;\n",
       "    }\n",
       "</style>\n",
       "<table border=\"1\" class=\"dataframe\">\n",
       "  <thead>\n",
       "    <tr style=\"text-align: right;\">\n",
       "      <th></th>\n",
       "      <th>Name</th>\n",
       "      <th>Year</th>\n",
       "      <th>Semesters on Staff</th>\n",
       "    </tr>\n",
       "  </thead>\n",
       "  <tbody>\n",
       "    <tr>\n",
       "      <th>3</th>\n",
       "      <td>Ashwin</td>\n",
       "      <td>Sophomore</td>\n",
       "      <td>3</td>\n",
       "    </tr>\n",
       "    <tr>\n",
       "      <th>7</th>\n",
       "      <td>Vivrd</td>\n",
       "      <td>Sophomore</td>\n",
       "      <td>3</td>\n",
       "    </tr>\n",
       "    <tr>\n",
       "      <th>10</th>\n",
       "      <td>Peter</td>\n",
       "      <td>Sophomore</td>\n",
       "      <td>2</td>\n",
       "    </tr>\n",
       "    <tr>\n",
       "      <th>19</th>\n",
       "      <td>Noah</td>\n",
       "      <td>Sophomore</td>\n",
       "      <td>2</td>\n",
       "    </tr>\n",
       "  </tbody>\n",
       "</table>\n",
       "</div>"
      ],
      "text/plain": [
       "      Name       Year  Semesters on Staff\n",
       "3   Ashwin  Sophomore                   3\n",
       "7    Vivrd  Sophomore                   3\n",
       "10   Peter  Sophomore                   2\n",
       "19    Noah  Sophomore                   2"
      ]
     },
     "execution_count": 27,
     "metadata": {},
     "output_type": "execute_result"
    }
   ],
   "source": [
    "data['Year'] = \"None\"\n",
    "data = pd.read_csv(r'C:\\Users\\jamha\\OneDrive\\Desktop\\CISPROG\\CISPROG-6\\data.csv')\n",
    "data.loc[(data['Year'] == 2), 'Year'] = 'Sophomore'\n",
    "data.loc[(data['Year'] == 3), 'Year'] = 'Junior(Assume 3rd year)'\n",
    "data.loc[(data['Year'] == 4), 'Year'] = 'Senior(Assume 4th year)'\n",
    "data[data['Year'] == 'Sophomore']"
   ]
  },
  {
   "cell_type": "code",
   "execution_count": 31,
   "metadata": {},
   "outputs": [
    {
     "data": {
      "image/png": "[encoded data removed]",
      "text/plain": [
       "<Figure size 432x288 with 1 Axes>"
      ]
     },
     "metadata": {
      "needs_background": "light"
     },
     "output_type": "display_data"
    }
   ],
   "source": [
    "import matplotlib.pyplot as plt\n",
    "data = pd.read_csv(r'C:\\Users\\jamha\\OneDrive\\Desktop\\CISPROG\\CISPROG-6\\data.csv')\n",
    "plt.scatter(data['Year'], data['Semesters on Staff'])\n",
    "plt.xlabel('Year')\n",
    "plt.ylabel('Semesters on Staff')\n",
    "plt.show()"
   ]
  },
  {
   "cell_type": "code",
   "execution_count": 30,
   "metadata": {},
   "outputs": [
    {
     "data": {
      "text/html": [
       "<div>\n",
       "<style scoped>\n",
       "    .dataframe tbody tr th:only-of-type {\n",
       "        vertical-align: middle;\n",
       "    }\n",
       "\n",
       "    .dataframe tbody tr th {\n",
       "        vertical-align: top;\n",
       "    }\n",
       "\n",
       "    .dataframe thead th {\n",
       "        text-align: right;\n",
       "    }\n",
       "</style>\n",
       "<table border=\"1\" class=\"dataframe\">\n",
       "  <thead>\n",
       "    <tr style=\"text-align: right;\">\n",
       "      <th>Year</th>\n",
       "      <th>2</th>\n",
       "      <th>3</th>\n",
       "      <th>4</th>\n",
       "    </tr>\n",
       "    <tr>\n",
       "      <th>Semesters on Staff</th>\n",
       "      <th></th>\n",
       "      <th></th>\n",
       "      <th></th>\n",
       "    </tr>\n",
       "  </thead>\n",
       "  <tbody>\n",
       "    <tr>\n",
       "      <th>2</th>\n",
       "      <td>2</td>\n",
       "      <td>3</td>\n",
       "      <td>0</td>\n",
       "    </tr>\n",
       "    <tr>\n",
       "      <th>3</th>\n",
       "      <td>2</td>\n",
       "      <td>5</td>\n",
       "      <td>2</td>\n",
       "    </tr>\n",
       "    <tr>\n",
       "      <th>4</th>\n",
       "      <td>0</td>\n",
       "      <td>1</td>\n",
       "      <td>1</td>\n",
       "    </tr>\n",
       "    <tr>\n",
       "      <th>5</th>\n",
       "      <td>0</td>\n",
       "      <td>0</td>\n",
       "      <td>2</td>\n",
       "    </tr>\n",
       "    <tr>\n",
       "      <th>7</th>\n",
       "      <td>0</td>\n",
       "      <td>0</td>\n",
       "      <td>3</td>\n",
       "    </tr>\n",
       "    <tr>\n",
       "      <th>9</th>\n",
       "      <td>0</td>\n",
       "      <td>0</td>\n",
       "      <td>1</td>\n",
       "    </tr>\n",
       "    <tr>\n",
       "      <th>10</th>\n",
       "      <td>0</td>\n",
       "      <td>0</td>\n",
       "      <td>1</td>\n",
       "    </tr>\n",
       "  </tbody>\n",
       "</table>\n",
       "</div>"
      ],
      "text/plain": [
       "Year                2  3  4\n",
       "Semesters on Staff         \n",
       "2                   2  3  0\n",
       "3                   2  5  2\n",
       "4                   0  1  1\n",
       "5                   0  0  2\n",
       "7                   0  0  3\n",
       "9                   0  0  1\n",
       "10                  0  0  1"
      ]
     },
     "execution_count": 30,
     "metadata": {},
     "output_type": "execute_result"
    }
   ],
   "source": [
    "data = pd.read_csv(r'C:\\Users\\jamha\\OneDrive\\Desktop\\CISPROG\\CISPROG-6\\data.csv')\n",
    "data.pivot_table(index=['Semesters on Staff'],  aggfunc='size',columns='Year', fill_value=0)"
   ]
  },
  {
   "cell_type": "code",
   "execution_count": null,
   "metadata": {},
   "outputs": [],
   "source": []
  }
 ],
 "metadata": {
  "kernelspec": {
   "display_name": "Python 3",
   "language": "python",
   "name": "python3"
  },
  "language_info": {
   "codemirror_mode": {
    "name": "ipython",
    "version": 3
   },
   "file_extension": ".py",
   "mimetype": "text/x-python",
   "name": "python",
   "nbconvert_exporter": "python",
   "pygments_lexer": "ipython3",
   "version": "3.8.5"
  }
 },
 "nbformat": 4,
 "nbformat_minor": 4
}
